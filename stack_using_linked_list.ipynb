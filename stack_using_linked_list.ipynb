{
 "cells": [
  {
   "cell_type": "code",
   "execution_count": 52,
   "id": "00b0d4bf",
   "metadata": {},
   "outputs": [],
   "source": [
    "class Node:\n",
    "    def __init__(self, data):\n",
    "        self.data = data\n",
    "        self.next = None"
   ]
  },
  {
   "cell_type": "code",
   "execution_count": null,
   "id": "547ee422",
   "metadata": {},
   "outputs": [],
   "source": [
    "# This script implements a simple stack using a linked list.\n",
    "class Stack:\n",
    "    \"\"\"A simple stack implementation using a linked list.\"\"\"\n",
    "    def __init__(self):\n",
    "        self.top = None\n",
    "\n",
    "    def is_empty(self):\n",
    "        return self.top is None\n",
    "    \n",
    "    # Push a new element onto the stack.\n",
    "    # The new element becomes the new top of the stack.\n",
    "    def push(self, data):\n",
    "        new_node = Node(data)\n",
    "        new_node.next = self.top\n",
    "        self.top = new_node\n",
    "\n",
    "    # Pop the top element from the stack and return its value.\n",
    "    # Raises IndexError if the stack is empty.\n",
    "    def pop(self):\n",
    "        if self.is_empty():\n",
    "            raise IndexError(\"pop from empty stack\")\n",
    "        popped_data = self.top.data\n",
    "        self.top = self.top.next\n",
    "        return popped_data\n",
    "    \n",
    "    # Peek at the top element of the stack without removing it.\n",
    "    def peek(self):\n",
    "        if self.is_empty():\n",
    "            raise IndexError(\"peek from empty stack\")\n",
    "        return self.top.data\n",
    "    \n",
    "    #print size of the stack\n",
    "    def size(self):\n",
    "        current = self.top\n",
    "        count = 0\n",
    "        while current:\n",
    "            count += 1\n",
    "            current = current.next\n",
    "        return count\n",
    "    \n",
    "    #print stack contents\n",
    "    def __str__(self):\n",
    "        current = self.top\n",
    "        elements = []\n",
    "        while current:\n",
    "            elements.append(current.data)\n",
    "            current = current.next\n",
    "        return \"Stack(top -> bottom): \" + \" -> \".join(map(str, elements))\n",
    "    \n",
    "        "
   ]
  },
  {
   "cell_type": "code",
   "execution_count": 54,
   "id": "316c5c8d",
   "metadata": {},
   "outputs": [],
   "source": [
    "stack = Stack()"
   ]
  },
  {
   "cell_type": "code",
   "execution_count": 55,
   "id": "1a512ea3",
   "metadata": {},
   "outputs": [
    {
     "data": {
      "text/plain": [
       "True"
      ]
     },
     "execution_count": 55,
     "metadata": {},
     "output_type": "execute_result"
    }
   ],
   "source": [
    "stack.is_empty()"
   ]
  },
  {
   "cell_type": "code",
   "execution_count": 56,
   "id": "9c608ed6",
   "metadata": {},
   "outputs": [],
   "source": [
    "stack.push(1)\n",
    "stack.push(2)\n",
    "stack.push(3)"
   ]
  },
  {
   "cell_type": "code",
   "execution_count": 57,
   "id": "e1f3f2f4",
   "metadata": {},
   "outputs": [
    {
     "data": {
      "text/plain": [
       "False"
      ]
     },
     "execution_count": 57,
     "metadata": {},
     "output_type": "execute_result"
    }
   ],
   "source": [
    "stack.is_empty()"
   ]
  },
  {
   "cell_type": "code",
   "execution_count": 58,
   "id": "3adc4877",
   "metadata": {},
   "outputs": [
    {
     "data": {
      "text/plain": [
       "'Stack(top -> bottom): 3 -> 2 -> 1'"
      ]
     },
     "execution_count": 58,
     "metadata": {},
     "output_type": "execute_result"
    }
   ],
   "source": [
    "str(stack)"
   ]
  },
  {
   "cell_type": "code",
   "execution_count": 59,
   "id": "8dd27049",
   "metadata": {},
   "outputs": [
    {
     "data": {
      "text/plain": [
       "3"
      ]
     },
     "execution_count": 59,
     "metadata": {},
     "output_type": "execute_result"
    }
   ],
   "source": [
    "stack.peek()"
   ]
  },
  {
   "cell_type": "code",
   "execution_count": 60,
   "id": "36946856",
   "metadata": {},
   "outputs": [
    {
     "data": {
      "text/plain": [
       "3"
      ]
     },
     "execution_count": 60,
     "metadata": {},
     "output_type": "execute_result"
    }
   ],
   "source": [
    "stack.size()"
   ]
  },
  {
   "cell_type": "code",
   "execution_count": 61,
   "id": "10526171",
   "metadata": {},
   "outputs": [
    {
     "data": {
      "text/plain": [
       "3"
      ]
     },
     "execution_count": 61,
     "metadata": {},
     "output_type": "execute_result"
    }
   ],
   "source": [
    "\n",
    "stack.pop()"
   ]
  },
  {
   "cell_type": "code",
   "execution_count": 62,
   "id": "4365fe18",
   "metadata": {},
   "outputs": [
    {
     "data": {
      "text/plain": [
       "'Stack(top -> bottom): 2 -> 1'"
      ]
     },
     "execution_count": 62,
     "metadata": {},
     "output_type": "execute_result"
    }
   ],
   "source": [
    "str(stack)"
   ]
  },
  {
   "cell_type": "code",
   "execution_count": null,
   "id": "bcadbe4b",
   "metadata": {},
   "outputs": [],
   "source": []
  },
  {
   "cell_type": "code",
   "execution_count": 133,
   "id": "6d7ba6f5",
   "metadata": {},
   "outputs": [],
   "source": [
    "## Reverse the stack.\n",
    "\n",
    "class Stack:\n",
    "    \"\"\"A simple stack implementation using a linked list.\"\"\"\n",
    "    \n",
    "    # Initialize the stack.\n",
    "    def __init__(self):\n",
    "        self.top = None\n",
    "\n",
    "    # Check if the stack is empty.\n",
    "    def is_empty(self):\n",
    "        return self.top is None\n",
    "\n",
    "    #push a new element onto the stack.\n",
    "    def push(self, data):\n",
    "        new_node = Node(data)\n",
    "        new_node.next = self.top\n",
    "        self.top = new_node\n",
    "\n",
    "    #pop the top element from the stack and return its value.    \n",
    "    def pop(self):\n",
    "        if self.is_empty():\n",
    "            raise IndexError(\"pop from empty stack\")\n",
    "        popped_data = self.top.data\n",
    "        self.top = self.top.next\n",
    "\n",
    "    #print elements in the stack.\n",
    "    def __str__(self):\n",
    "        current = self.top\n",
    "        elements = []\n",
    "        while current:\n",
    "            elements.append(current.data)\n",
    "            current = current.next\n",
    "        return \"Stack(top -> bottom): \" + \" -> \".join(map(str, elements))\n",
    "\n",
    "    \n",
    "    def reverse(self):\n",
    "        current = self.top\n",
    "        prev = None\n",
    "        while current:\n",
    "            next_node = current.next\n",
    "            current.next = prev\n",
    "            prev = current\n",
    "            current = next_node\n",
    "        self.top = prev\n",
    "\n",
    "    "
   ]
  },
  {
   "cell_type": "code",
   "execution_count": 134,
   "id": "58ac9e12",
   "metadata": {},
   "outputs": [],
   "source": [
    "stack_rev = Stack()"
   ]
  },
  {
   "cell_type": "code",
   "execution_count": 135,
   "id": "60f0cec1",
   "metadata": {},
   "outputs": [],
   "source": [
    "for i in \"hello\":\n",
    "    stack_rev.push(i)"
   ]
  },
  {
   "cell_type": "code",
   "execution_count": 136,
   "id": "67063955",
   "metadata": {},
   "outputs": [
    {
     "data": {
      "text/plain": [
       "'Stack(top -> bottom): o -> l -> l -> e -> h'"
      ]
     },
     "execution_count": 136,
     "metadata": {},
     "output_type": "execute_result"
    }
   ],
   "source": [
    "str(stack_rev)"
   ]
  },
  {
   "cell_type": "code",
   "execution_count": 137,
   "id": "cafb8239",
   "metadata": {},
   "outputs": [],
   "source": [
    "stack_rev.reverse()"
   ]
  },
  {
   "cell_type": "code",
   "execution_count": 138,
   "id": "b5a8abbd",
   "metadata": {},
   "outputs": [
    {
     "data": {
      "text/plain": [
       "'Stack(top -> bottom): h -> e -> l -> l -> o'"
      ]
     },
     "execution_count": 138,
     "metadata": {},
     "output_type": "execute_result"
    }
   ],
   "source": [
    "str(stack_rev)"
   ]
  },
  {
   "cell_type": "code",
   "execution_count": 139,
   "id": "138cae76",
   "metadata": {},
   "outputs": [
    {
     "data": {
      "text/plain": [
       "'Stack(top -> bottom): h -> e -> l -> l -> o'"
      ]
     },
     "execution_count": 139,
     "metadata": {},
     "output_type": "execute_result"
    }
   ],
   "source": [
    "str(stack_rev)"
   ]
  },
  {
   "cell_type": "code",
   "execution_count": null,
   "id": "8b7fbff1",
   "metadata": {},
   "outputs": [],
   "source": []
  },
  {
   "cell_type": "code",
   "execution_count": null,
   "id": "abf9fd51",
   "metadata": {},
   "outputs": [],
   "source": []
  }
 ],
 "metadata": {
  "kernelspec": {
   "display_name": "Python 3",
   "language": "python",
   "name": "python3"
  },
  "language_info": {
   "codemirror_mode": {
    "name": "ipython",
    "version": 3
   },
   "file_extension": ".py",
   "mimetype": "text/x-python",
   "name": "python",
   "nbconvert_exporter": "python",
   "pygments_lexer": "ipython3",
   "version": "3.10.0"
  }
 },
 "nbformat": 4,
 "nbformat_minor": 5
}
